{
  "cells": [
    {
      "cell_type": "markdown",
      "metadata": {},
      "source": [
        "\n# Searching the MaterialBank\n\nThis example shows how to locate materials using patterns with\n:func:`~PyOptik.material_bank.MaterialBank.search` and then load a\nmaterial for analysis.\n"
      ]
    },
    {
      "cell_type": "code",
      "execution_count": null,
      "metadata": {
        "collapsed": false
      },
      "outputs": [],
      "source": [
        "from PyOptik import MaterialBank\nfrom TypedUnit import ureg\n\n# Find materials containing the substring 'si'\nmaterials = MaterialBank.search(\"si\")\nprint(\"Matches:\")\nfor name in materials:\n    print(\"-\", name)\n\n# Use the first match\nmaterial = MaterialBank.get(materials[0])\nprint(\"\\nRefractive index at 1 \u00b5m:\")\nprint(material.compute_refractive_index(1 * ureg.micrometer))"
      ]
    }
  ],
  "metadata": {
    "kernelspec": {
      "display_name": "Python 3",
      "language": "python",
      "name": "python3"
    },
    "language_info": {
      "codemirror_mode": {
        "name": "ipython",
        "version": 3
      },
      "file_extension": ".py",
      "mimetype": "text/x-python",
      "name": "python",
      "nbconvert_exporter": "python",
      "pygments_lexer": "ipython3",
      "version": "3.11.13"
    }
  },
  "nbformat": 4,
  "nbformat_minor": 0
}