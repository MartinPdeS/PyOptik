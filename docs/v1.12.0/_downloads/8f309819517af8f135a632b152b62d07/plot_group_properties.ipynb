{
  "cells": [
    {
      "cell_type": "markdown",
      "metadata": {},
      "source": [
        "\n# Group Index and Velocity of Fused Silica\n\nThis example demonstrates how to compute and plot the group index and\ngroup velocity of fused silica using :mod:`PyOptik`.\n"
      ]
    },
    {
      "cell_type": "code",
      "execution_count": null,
      "metadata": {
        "collapsed": false
      },
      "outputs": [],
      "source": [
        "import numpy\nimport matplotlib.pyplot as plt\nfrom MPSPlots.styles import mps\nfrom PyOptik import MaterialBank\nfrom PyOptik.units import micrometer\n\n# Retrieve the material\nmaterial = MaterialBank.fused_silica\n\n# Compute values over a wavelength range\nwavelengths = numpy.linspace(0.5, 1.6, 200) * micrometer\nn_g = material.compute_group_index(wavelengths)\nv_g = material.compute_group_velocity(wavelengths)"
      ]
    },
    {
      "cell_type": "code",
      "execution_count": null,
      "metadata": {
        "collapsed": false
      },
      "outputs": [],
      "source": [
        "with plt.style.context(mps):\n    fig, ax1 = plt.subplots()\n\nax1.set(\n    xlabel=\"Wavelength [\u00b5m]\",\n    ylabel=\"Group index\",\n    title=\"Fused Silica Group Properties\",\n)\nax1.plot(wavelengths.to(micrometer).magnitude, n_g.magnitude, label=\"n_g\")\nax1.legend(loc=\"upper left\")\n\nax2 = ax1.twinx()\nax2.set(ylabel=\"Group velocity [m/s]\")\nax2.plot(\n    wavelengths.to(micrometer).magnitude,\n    v_g.to(\"m/s\").magnitude,\n    color=\"tab:red\",\n    label=\"v_g\",\n)\nax2.legend(loc=\"upper right\")\n\nplt.show()"
      ]
    }
  ],
  "metadata": {
    "kernelspec": {
      "display_name": "Python 3",
      "language": "python",
      "name": "python3"
    },
    "language_info": {
      "codemirror_mode": {
        "name": "ipython",
        "version": 3
      },
      "file_extension": ".py",
      "mimetype": "text/x-python",
      "name": "python",
      "nbconvert_exporter": "python",
      "pygments_lexer": "ipython3",
      "version": "3.11.13"
    }
  },
  "nbformat": 4,
  "nbformat_minor": 0
}