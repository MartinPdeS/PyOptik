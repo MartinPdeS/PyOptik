{
 "cells": [
  {
   "cell_type": "code",
   "execution_count": 1,
   "id": "9740833a",
   "metadata": {},
   "outputs": [],
   "source": [
    "from PyRI import Sellmeier\n",
    "from PyRI import load_sellmeier\n",
    "from PyRI import load_online"
   ]
  },
  {
   "cell_type": "code",
   "execution_count": 2,
   "id": "bd142e6a",
   "metadata": {},
   "outputs": [],
   "source": [
    "silver = ExpData(\"Silver\")"
   ]
  },
  {
   "cell_type": "code",
   "execution_count": 3,
   "id": "a2364188",
   "metadata": {},
   "outputs": [
    {
     "data": {
      "text/plain": [
       "1.1417499999999998"
      ]
     },
     "execution_count": 3,
     "metadata": {},
     "output_type": "execute_result"
    }
   ],
   "source": [
    "silver.get_ri(2e-07)"
   ]
  },
  {
   "cell_type": "code",
   "execution_count": 4,
   "id": "595dda15",
   "metadata": {},
   "outputs": [
    {
     "data": {
      "image/png": "[encoded data removed]",
      "text/plain": [
       "<Figure size 432x288 with 1 Axes>"
      ]
     },
     "metadata": {
      "needs_background": "light"
     },
     "output_type": "display_data"
    }
   ],
   "source": [
    "silver.plot_expdata(ri=True, ec=False)"
   ]
  },
  {
   "cell_type": "code",
   "execution_count": 5,
   "id": "36949285",
   "metadata": {},
   "outputs": [],
   "source": [
    "bk7 = Sellmeier('BK7')"
   ]
  },
  {
   "cell_type": "code",
   "execution_count": 6,
   "id": "af371a62",
   "metadata": {},
   "outputs": [
    {
     "data": {
      "image/png": "[encoded data removed]",
      "text/plain": [
       "<Figure size 432x288 with 1 Axes>"
      ]
     },
     "metadata": {
      "needs_background": "light"
     },
     "output_type": "display_data"
    }
   ],
   "source": [
    "bk7.plot_sellmeier(.5e-06, 1.5e-06)"
   ]
  },
  {
   "cell_type": "code",
   "execution_count": 1,
   "id": "48193f83",
   "metadata": {},
   "outputs": [
    {
     "data": {
      "text/plain": [
       "{'wl_n': array([0.3  , 0.322, 0.344, 0.366, 0.388, 0.41 , 0.432, 0.454, 0.476,\n",
       "        0.498, 0.52 , 0.542, 0.564, 0.586, 0.608, 0.63 , 0.652, 0.674,\n",
       "        0.696, 0.718, 0.74 , 0.762, 0.784, 0.806, 0.828, 0.85 , 0.872,\n",
       "        0.894, 0.916, 0.938, 0.96 , 0.982, 1.004, 1.026, 1.048, 1.07 ,\n",
       "        1.092, 1.114, 1.136, 1.158, 1.18 , 1.202, 1.224, 1.246, 1.268,\n",
       "        1.29 , 1.312, 1.334, 1.356, 1.378, 1.4  , 1.422, 1.444, 1.466,\n",
       "        1.488, 1.51 , 1.532, 1.554, 1.576, 1.598, 1.62 , 1.642, 1.664,\n",
       "        1.686, 1.708, 1.73 , 1.752, 1.774, 1.796, 1.818, 1.84 , 1.862,\n",
       "        1.884, 1.906, 1.928, 1.95 , 1.972, 1.994, 2.016, 2.038, 2.06 ,\n",
       "        2.082, 2.104, 2.126, 2.148, 2.17 , 2.192, 2.214, 2.236, 2.258,\n",
       "        2.28 , 2.302, 2.324, 2.346, 2.368, 2.39 , 2.412, 2.434, 2.456,\n",
       "        2.478, 2.5  ]),\n",
       " 'n': array([1.55277026, 1.54586993, 1.54044669, 1.53609053, 1.53252773,\n",
       "        1.52956877, 1.52707843, 1.52495785, 1.52313317, 1.52154825,\n",
       "        1.52015969, 1.51893348, 1.51784265, 1.51686556, 1.51598467,\n",
       "        1.51518565, 1.51445666, 1.51378789, 1.51317111, 1.5125994 ,\n",
       "        1.51206689, 1.51156859, 1.51110021, 1.51065806, 1.51023896,\n",
       "        1.50984013, 1.50945918, 1.50909398, 1.50874267, 1.50840363,\n",
       "        1.50807539, 1.50775668, 1.50744636, 1.50714339, 1.50684687,\n",
       "        1.50655598, 1.50626998, 1.5059882 , 1.50571004, 1.50543495,\n",
       "        1.50516244, 1.50489206, 1.50462339, 1.50435607, 1.50408973,\n",
       "        1.50382407, 1.5035588 , 1.50329364, 1.50302835, 1.50276271,\n",
       "        1.50249648, 1.50222949, 1.50196155, 1.50169248, 1.50142212,\n",
       "        1.50115033, 1.50087697, 1.5006019 , 1.500325  , 1.50004615,\n",
       "        1.49976525, 1.4994822 , 1.49919688, 1.49890921, 1.4986191 ,\n",
       "        1.49832647, 1.49803124, 1.49773332, 1.49743265, 1.49712915,\n",
       "        1.49682275, 1.4965134 , 1.49620103, 1.49588557, 1.49556697,\n",
       "        1.49524517, 1.49492012, 1.49459176, 1.49426004, 1.4939249 ,\n",
       "        1.49358631, 1.49324421, 1.49289855, 1.49254928, 1.49219636,\n",
       "        1.49183975, 1.4914794 , 1.49111526, 1.49074729, 1.49037545,\n",
       "        1.4899997 , 1.48961999, 1.48923628, 1.48884853, 1.4884567 ,\n",
       "        1.48806075, 1.48766063, 1.48725631, 1.48684774, 1.48643489,\n",
       "        1.48601771]),\n",
       " 'wl_k': array([0.3  , 0.31 , 0.32 , 0.334, 0.35 , 0.365, 0.37 , 0.38 , 0.39 ,\n",
       "        0.4  , 0.405, 0.42 , 0.436, 0.46 , 0.5  , 0.546, 0.58 , 0.62 ,\n",
       "        0.66 , 0.7  , 1.06 , 1.53 , 1.97 , 2.325, 2.5  ]),\n",
       " 'k': array([2.8607e-06, 1.3679e-06, 6.6608e-07, 2.6415e-07, 9.2894e-08,\n",
       "        3.4191e-08, 2.7405e-08, 2.0740e-08, 1.3731e-08, 1.0227e-08,\n",
       "        9.0558e-09, 9.3912e-09, 1.1147e-08, 1.0286e-08, 9.5781e-09,\n",
       "        6.9658e-09, 9.2541e-09, 1.1877e-08, 1.2643e-08, 8.9305e-09,\n",
       "        1.0137e-08, 9.8390e-08, 1.0933e-06, 4.2911e-06, 8.1300e-06])}"
      ]
     },
     "execution_count": 1,
     "metadata": {},
     "output_type": "execute_result"
    }
   ],
   "source": [
    "from PyRI.ExpData import load_online\n",
    "url = \"https://refractiveindex.info/data_csv.php?datafile=data/glass/schott/N-BK7.yml\"\n",
    "\n",
    "load_online(url)"
   ]
  },
  {
   "cell_type": "code",
   "execution_count": 2,
   "id": "82061646",
   "metadata": {},
   "outputs": [],
   "source": [
    "from PyRI.ExpData import save_data\n",
    "\n",
    "url = \"https://refractiveindex.info/data_csv.php?datafile=data/glass/schott/N-BK7.yml\"\n",
    "\n",
    "save_data(url, \"BK7\")"
   ]
  },
  {
   "cell_type": "code",
   "execution_count": 2,
   "id": "750031d5",
   "metadata": {},
   "outputs": [
    {
     "name": "stdout",
     "output_type": "stream",
     "text": [
      "[1, 2]\n"
     ]
    }
   ],
   "source": [
    "a = [1,2,3]\n",
    "print(a[:2])"
   ]
  },
  {
   "cell_type": "code",
   "execution_count": 4,
   "id": "e33faf3a",
   "metadata": {},
   "outputs": [
    {
     "name": "stdout",
     "output_type": "stream",
     "text": [
      "Material with experimental data: ['Silver', 'BK7']\n",
      "Material with Sellmeier's formula: ['BK7']\n"
     ]
    }
   ],
   "source": [
    "from PyRI import data_bank\n",
    "data_bank()"
   ]
  },
  {
   "cell_type": "code",
   "execution_count": 6,
   "id": "70ca78ba",
   "metadata": {},
   "outputs": [],
   "source": [
    "from PyRI.ExpData import remove_data\n",
    "\n",
    "remove_data(\"BK7\")"
   ]
  },
  {
   "cell_type": "code",
   "execution_count": null,
   "id": "c03edd16",
   "metadata": {},
   "outputs": [],
   "source": []
  }
 ],
 "metadata": {
  "kernelspec": {
   "display_name": "Python 3 (ipykernel)",
   "language": "python",
   "name": "python3"
  },
  "language_info": {
   "codemirror_mode": {
    "name": "ipython",
    "version": 3
   },
   "file_extension": ".py",
   "mimetype": "text/x-python",
   "name": "python",
   "nbconvert_exporter": "python",
   "pygments_lexer": "ipython3",
   "version": "3.8.10"
  }
 },
 "nbformat": 4,
 "nbformat_minor": 5
}
