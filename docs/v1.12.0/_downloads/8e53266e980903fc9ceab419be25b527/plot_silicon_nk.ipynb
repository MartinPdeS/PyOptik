{
  "cells": [
    {
      "cell_type": "markdown",
      "metadata": {},
      "source": [
        "\n# Plot the Refractive Index and Absorption of Silicon\n\nThis example uses :mod:`PyOptik` to visualise both the real and\nimaginary parts of the refractive index of silicon over a typical\ninfrared wavelength range.\n"
      ]
    },
    {
      "cell_type": "code",
      "execution_count": null,
      "metadata": {
        "collapsed": false
      },
      "outputs": [],
      "source": [
        "import numpy\nimport matplotlib.pyplot as plt\nfrom TypedUnit import ureg\nfrom MPSPlots.styles import mps\n\nfrom PyOptik import MaterialBank\n\n\nmaterial = MaterialBank.silicon\n\nwavelengths = numpy.linspace(0.3, 1.1, 300) * ureg.micrometer\nindex = material.compute_refractive_index(wavelengths)"
      ]
    },
    {
      "cell_type": "code",
      "execution_count": null,
      "metadata": {
        "collapsed": false
      },
      "outputs": [],
      "source": [
        "with plt.style.context(mps):\n    fig, ax1 = plt.subplots()\n\nax1.set(\n    title=\"Silicon Refractive Index and Absorption\",\n    xlabel=\"Wavelength [\u00b5m]\",\n    ylabel=\"n\",\n)\nax1.plot(wavelengths.to(ureg.micrometer).magnitude, index.real, label=\"n\", color=\"tab:blue\")\nax1.legend(loc=\"upper left\")\n\nax2 = ax1.twinx()\nax2.set(ylabel=\"k\")\nax2.plot(wavelengths.to(ureg.micrometer).magnitude, index.imag, color=\"tab:red\", label=\"k\")\nax2.legend(loc=\"upper right\")\n\nplt.show()"
      ]
    }
  ],
  "metadata": {
    "kernelspec": {
      "display_name": "Python 3",
      "language": "python",
      "name": "python3"
    },
    "language_info": {
      "codemirror_mode": {
        "name": "ipython",
        "version": 3
      },
      "file_extension": ".py",
      "mimetype": "text/x-python",
      "name": "python",
      "nbconvert_exporter": "python",
      "pygments_lexer": "ipython3",
      "version": "3.11.13"
    }
  },
  "nbformat": 4,
  "nbformat_minor": 0
}