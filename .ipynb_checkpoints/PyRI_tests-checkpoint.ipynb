{
 "cells": [
  {
   "cell_type": "code",
   "execution_count": 1,
   "id": "146292c2",
   "metadata": {},
   "outputs": [],
   "source": [
    "from PyRI.Material import LoadOnline, SaveData"
   ]
  },
  {
   "cell_type": "code",
   "execution_count": 2,
   "id": "f10d6c90",
   "metadata": {},
   "outputs": [],
   "source": [
    "from PyRI.Sellmeier import LoadSellmeier"
   ]
  },
  {
   "cell_type": "code",
   "execution_count": 3,
   "id": "00ab873b",
   "metadata": {},
   "outputs": [
    {
     "name": "stdout",
     "output_type": "stream",
     "text": [
      "{'wl_n': array([0.1879, 0.1916, 0.1953, 0.1993, 0.2033, 0.2073, 0.2119, 0.2164,\n",
      "       0.2214, 0.2262, 0.2313, 0.2371, 0.2426, 0.249 , 0.2551, 0.2616,\n",
      "       0.2689, 0.2761, 0.2844, 0.2924, 0.3009, 0.3107, 0.3204, 0.3315,\n",
      "       0.3425, 0.3542, 0.3679, 0.3815, 0.3974, 0.4133, 0.4305, 0.4509,\n",
      "       0.4714, 0.4959, 0.5209, 0.5486, 0.5821, 0.6168, 0.6595, 0.7045,\n",
      "       0.756 , 0.8211, 0.892 , 0.984 , 1.088 , 1.216 , 1.393 , 1.61  ,\n",
      "       1.937 ]), 'n': array([1.07, 1.1 , 1.12, 1.14, 1.15, 1.18, 1.2 , 1.22, 1.25, 1.26, 1.28,\n",
      "       1.28, 1.3 , 1.31, 1.33, 1.35, 1.38, 1.41, 1.41, 1.39, 1.34, 1.13,\n",
      "       0.81, 0.17, 0.14, 0.1 , 0.07, 0.05, 0.05, 0.05, 0.04, 0.04, 0.05,\n",
      "       0.05, 0.05, 0.06, 0.05, 0.06, 0.05, 0.04, 0.03, 0.04, 0.04, 0.04,\n",
      "       0.04, 0.09, 0.13, 0.15, 0.24]), 'wl_k': array([0.1879, 0.1916, 0.1953, 0.1993, 0.2033, 0.2073, 0.2119, 0.2164,\n",
      "       0.2214, 0.2262, 0.2313, 0.2371, 0.2426, 0.249 , 0.2551, 0.2616,\n",
      "       0.2689, 0.2761, 0.2844, 0.2924, 0.3009, 0.3107, 0.3204, 0.3315,\n",
      "       0.3425, 0.3542, 0.3679, 0.3815, 0.3974, 0.4133, 0.4305, 0.4509,\n",
      "       0.4714, 0.4959, 0.5209, 0.5486, 0.5821, 0.6168, 0.6595, 0.7045,\n",
      "       0.756 , 0.8211, 0.892 , 0.984 , 1.088 , 1.216 , 1.393 , 1.61  ,\n",
      "       1.937 ]), 'k': array([ 1.212,  1.232,  1.255,  1.277,  1.296,  1.312,  1.325,  1.336,\n",
      "        1.342,  1.344,  1.357,  1.367,  1.378,  1.389,  1.393,  1.387,\n",
      "        1.372,  1.331,  1.264,  1.161,  0.964,  0.616,  0.392,  0.829,\n",
      "        1.142,  1.419,  1.657,  1.864,  2.07 ,  2.275,  2.462,  2.657,\n",
      "        2.869,  3.093,  3.324,  3.586,  3.858,  4.152,  4.483,  4.838,\n",
      "        5.242,  5.727,  6.312,  6.992,  7.795,  8.828, 10.1  , 11.85 ,\n",
      "       14.08 ])}\n"
     ]
    }
   ],
   "source": [
    "# Silver CSV\n",
    "url = \"https://refractiveindex.info/data_csv.php?datafile=data/main/Ag/Johnson.yml\"\n",
    "\n",
    "print(LoadOnline(url))"
   ]
  },
  {
   "cell_type": "code",
   "execution_count": 1,
   "id": "34940cfc",
   "metadata": {},
   "outputs": [],
   "source": [
    "from PyRI.Material import Material"
   ]
  },
  {
   "cell_type": "code",
   "execution_count": 2,
   "id": "d9dd6bb4",
   "metadata": {},
   "outputs": [],
   "source": [
    "silver = Material(\"Silver\")"
   ]
  },
  {
   "cell_type": "code",
   "execution_count": 4,
   "id": "dd0456ac",
   "metadata": {},
   "outputs": [
    {
     "name": "stdout",
     "output_type": "stream",
     "text": [
      "Silver\n"
     ]
    }
   ],
   "source": [
    "print(silver)"
   ]
  },
  {
   "cell_type": "code",
   "execution_count": 5,
   "id": "6ef37b14",
   "metadata": {},
   "outputs": [
    {
     "name": "stdout",
     "output_type": "stream",
     "text": [
      "Silver.npz\n"
     ]
    }
   ],
   "source": [
    "print(silver.LocalDir)"
   ]
  },
  {
   "cell_type": "code",
   "execution_count": 7,
   "id": "93361b6e",
   "metadata": {},
   "outputs": [
    {
     "ename": "AssertionError",
     "evalue": "Material not in the local bankPlease refer to Documentation Material sectionhttps://pymiesim.readthedocs.io/en/latest/Material.html",
     "output_type": "error",
     "traceback": [
      "\u001b[0;31m---------------------------------------------------------------------------\u001b[0m",
      "\u001b[0;31mAssertionError\u001b[0m                            Traceback (most recent call last)",
      "\u001b[0;32m/tmp/ipykernel_16932/1265928050.py\u001b[0m in \u001b[0;36m<module>\u001b[0;34m\u001b[0m\n\u001b[0;32m----> 1\u001b[0;31m \u001b[0merror\u001b[0m \u001b[0;34m=\u001b[0m \u001b[0mMaterial\u001b[0m\u001b[0;34m(\u001b[0m\u001b[0;34m\"hello\"\u001b[0m\u001b[0;34m)\u001b[0m\u001b[0;34m\u001b[0m\u001b[0;34m\u001b[0m\u001b[0m\n\u001b[0m",
      "\u001b[0;32m~/Documents/stage_2021/PyRI/PyRI/Material/material_class.py\u001b[0m in \u001b[0;36m__init__\u001b[0;34m(self, name)\u001b[0m\n\u001b[1;32m     19\u001b[0m         \u001b[0mself\u001b[0m\u001b[0;34m.\u001b[0m\u001b[0mLocalDir\u001b[0m \u001b[0;34m=\u001b[0m \u001b[0mmeta_material\u001b[0m\u001b[0;34m[\u001b[0m\u001b[0;34m\"local_data\"\u001b[0m\u001b[0;34m]\u001b[0m\u001b[0;34m[\u001b[0m\u001b[0mname\u001b[0m\u001b[0;34m]\u001b[0m\u001b[0;34m\u001b[0m\u001b[0;34m\u001b[0m\u001b[0m\n\u001b[1;32m     20\u001b[0m \u001b[0;34m\u001b[0m\u001b[0m\n\u001b[0;32m---> 21\u001b[0;31m     \u001b[0;32mdef\u001b[0m \u001b[0m__repr__\u001b[0m\u001b[0;34m(\u001b[0m\u001b[0mself\u001b[0m\u001b[0;34m)\u001b[0m\u001b[0;34m:\u001b[0m\u001b[0;34m\u001b[0m\u001b[0;34m\u001b[0m\u001b[0m\n\u001b[0m\u001b[1;32m     22\u001b[0m         \u001b[0;32mreturn\u001b[0m \u001b[0mself\u001b[0m\u001b[0;34m.\u001b[0m\u001b[0m__name__\u001b[0m\u001b[0;34m\u001b[0m\u001b[0;34m\u001b[0m\u001b[0m\n\u001b[1;32m     23\u001b[0m \u001b[0;34m\u001b[0m\u001b[0m\n",
      "\u001b[0;31mAssertionError\u001b[0m: Material not in the local bankPlease refer to Documentation Material sectionhttps://pymiesim.readthedocs.io/en/latest/Material.html"
     ]
    }
   ],
   "source": [
    "error = Material(\"hello\")"
   ]
  },
  {
   "cell_type": "code",
   "execution_count": null,
   "id": "3171fe3f",
   "metadata": {},
   "outputs": [],
   "source": []
  }
 ],
 "metadata": {
  "kernelspec": {
   "display_name": "Python 3 (ipykernel)",
   "language": "python",
   "name": "python3"
  },
  "language_info": {
   "codemirror_mode": {
    "name": "ipython",
    "version": 3
   },
   "file_extension": ".py",
   "mimetype": "text/x-python",
   "name": "python",
   "nbconvert_exporter": "python",
   "pygments_lexer": "ipython3",
   "version": "3.8.10"
  }
 },
 "nbformat": 4,
 "nbformat_minor": 5
}
