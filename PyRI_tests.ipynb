{
 "cells": [
  {
   "cell_type": "code",
   "execution_count": 14,
   "id": "9740833a",
   "metadata": {},
   "outputs": [],
   "source": [
    "from pyri import Sellmeier\n",
    "from pyri import ExpData\n",
    "from pyri import load_sellmeier\n",
    "from pyri import load_online"
   ]
  },
  {
   "cell_type": "code",
   "execution_count": 15,
   "id": "bed29b34",
   "metadata": {},
   "outputs": [],
   "source": [
    "url = 'https://refractiveindex.info/tmp/data/glass/schott/N-BK7.html'"
   ]
  },
  {
   "cell_type": "code",
   "execution_count": 17,
   "id": "5b3ca9b5",
   "metadata": {},
   "outputs": [
    {
     "name": "stdout",
     "output_type": "stream",
     "text": [
      "(1+1.03961212/(1-0.00600069867/x**2)+0.231792344/(1-0.0200179144/x**2)+1.01046945/(1-103.560653/x**2))**.5\n"
     ]
    }
   ],
   "source": [
    "print(load_sellmeier(url))"
   ]
  },
  {
   "cell_type": "code",
   "execution_count": 18,
   "id": "37d35737",
   "metadata": {},
   "outputs": [
    {
     "name": "stdout",
     "output_type": "stream",
     "text": [
      "0.9999999999963768\n"
     ]
    }
   ],
   "source": [
    "bk7 = Sellmeier(\"BK7\")\n",
    "n = bk7.sellmeier_ri(1.98e-07)\n",
    "print(n)"
   ]
  },
  {
   "cell_type": "code",
   "execution_count": 27,
   "id": "bd142e6a",
   "metadata": {},
   "outputs": [],
   "source": [
    "silver = ExpData(\"Silver\")"
   ]
  },
  {
   "cell_type": "code",
   "execution_count": 28,
   "id": "a2364188",
   "metadata": {},
   "outputs": [
    {
     "data": {
      "text/plain": [
       "1.1417499999999998"
      ]
     },
     "execution_count": 28,
     "metadata": {},
     "output_type": "execute_result"
    }
   ],
   "source": [
    "silver.get_ri(2e-07)"
   ]
  },
  {
   "cell_type": "code",
   "execution_count": 21,
   "id": "efbccb3d",
   "metadata": {},
   "outputs": [],
   "source": [
    "from pyri import data_bank"
   ]
  },
  {
   "cell_type": "code",
   "execution_count": 29,
   "id": "ff2a8ab3",
   "metadata": {},
   "outputs": [
    {
     "name": "stdout",
     "output_type": "stream",
     "text": [
      "Material with experimental data: ['Silver']\n",
      "Material with Sellmeier's formula: ['BK7']\n"
     ]
    }
   ],
   "source": [
    "data_bank()"
   ]
  },
  {
   "cell_type": "code",
   "execution_count": 23,
   "id": "efd870be",
   "metadata": {},
   "outputs": [],
   "source": [
    "from pyri import Material"
   ]
  },
  {
   "cell_type": "code",
   "execution_count": 24,
   "id": "f64040ff",
   "metadata": {},
   "outputs": [],
   "source": [
    "silver = Material(\"Silver\")"
   ]
  },
  {
   "cell_type": "code",
   "execution_count": 25,
   "id": "176519ba",
   "metadata": {},
   "outputs": [
    {
     "ename": "AttributeError",
     "evalue": "'Material' object has no attribute 'Formula'",
     "output_type": "error",
     "traceback": [
      "\u001b[0;31m---------------------------------------------------------------------------\u001b[0m",
      "\u001b[0;31mAttributeError\u001b[0m                            Traceback (most recent call last)",
      "\u001b[0;32m/tmp/ipykernel_19116/4272416027.py\u001b[0m in \u001b[0;36m<module>\u001b[0;34m\u001b[0m\n\u001b[0;32m----> 1\u001b[0;31m \u001b[0msilver\u001b[0m\u001b[0;34m.\u001b[0m\u001b[0msellmeier_ri\u001b[0m\u001b[0;34m(\u001b[0m\u001b[0;36m2e-07\u001b[0m\u001b[0;34m)\u001b[0m\u001b[0;34m\u001b[0m\u001b[0;34m\u001b[0m\u001b[0m\n\u001b[0m",
      "\u001b[0;32m~/Documents/stage_2021/pyri/pyri/Sellmeier/sellmeier_class.py\u001b[0m in \u001b[0;36msellmeier_ri\u001b[0;34m(self, wl)\u001b[0m\n\u001b[1;32m     29\u001b[0m         \"\"\"\n\u001b[1;32m     30\u001b[0m         \u001b[0mx\u001b[0m \u001b[0;34m=\u001b[0m \u001b[0mwl\u001b[0m\u001b[0;34m\u001b[0m\u001b[0;34m\u001b[0m\u001b[0m\n\u001b[0;32m---> 31\u001b[0;31m         \u001b[0mn\u001b[0m \u001b[0;34m=\u001b[0m \u001b[0meval\u001b[0m\u001b[0;34m(\u001b[0m\u001b[0mself\u001b[0m\u001b[0;34m.\u001b[0m\u001b[0mFormula\u001b[0m\u001b[0;34m)\u001b[0m\u001b[0;34m\u001b[0m\u001b[0;34m\u001b[0m\u001b[0m\n\u001b[0m\u001b[1;32m     32\u001b[0m \u001b[0;34m\u001b[0m\u001b[0m\n\u001b[1;32m     33\u001b[0m         \u001b[0;32mreturn\u001b[0m\u001b[0;34m(\u001b[0m\u001b[0mn\u001b[0m\u001b[0;34m)\u001b[0m\u001b[0;34m\u001b[0m\u001b[0;34m\u001b[0m\u001b[0m\n",
      "\u001b[0;31mAttributeError\u001b[0m: 'Material' object has no attribute 'Formula'"
     ]
    }
   ],
   "source": [
    "silver.sellmeier_ri(2e-07)"
   ]
  },
  {
   "cell_type": "code",
   "execution_count": 26,
   "id": "a6272c15",
   "metadata": {},
   "outputs": [
    {
     "ename": "AssertionError",
     "evalue": "Material not in the local data bank.To add it, visit the documentation.",
     "output_type": "error",
     "traceback": [
      "\u001b[0;31m---------------------------------------------------------------------------\u001b[0m",
      "\u001b[0;31mAssertionError\u001b[0m                            Traceback (most recent call last)",
      "\u001b[0;32m/tmp/ipykernel_19116/4103300533.py\u001b[0m in \u001b[0;36m<module>\u001b[0;34m\u001b[0m\n\u001b[0;32m----> 1\u001b[0;31m \u001b[0mbk7\u001b[0m \u001b[0;34m=\u001b[0m \u001b[0mMaterial\u001b[0m\u001b[0;34m(\u001b[0m\u001b[0;34m\"BK7\"\u001b[0m\u001b[0;34m)\u001b[0m\u001b[0;34m\u001b[0m\u001b[0;34m\u001b[0m\u001b[0m\n\u001b[0m",
      "\u001b[0;32m~/Documents/stage_2021/pyri/pyri/utils.py\u001b[0m in \u001b[0;36m__init__\u001b[0;34m(self, name)\u001b[0m\n\u001b[1;32m     25\u001b[0m \u001b[0;32mclass\u001b[0m \u001b[0mMaterial\u001b[0m\u001b[0;34m(\u001b[0m\u001b[0mExpData\u001b[0m\u001b[0;34m,\u001b[0m \u001b[0mSellmeier\u001b[0m\u001b[0;34m)\u001b[0m\u001b[0;34m:\u001b[0m\u001b[0;34m\u001b[0m\u001b[0;34m\u001b[0m\u001b[0m\n\u001b[1;32m     26\u001b[0m     \u001b[0;32mdef\u001b[0m \u001b[0m__init__\u001b[0m\u001b[0;34m(\u001b[0m\u001b[0mself\u001b[0m\u001b[0;34m,\u001b[0m \u001b[0mname\u001b[0m\u001b[0;34m)\u001b[0m\u001b[0;34m:\u001b[0m\u001b[0;34m\u001b[0m\u001b[0;34m\u001b[0m\u001b[0m\n\u001b[0;32m---> 27\u001b[0;31m         \u001b[0msuper\u001b[0m\u001b[0;34m(\u001b[0m\u001b[0;34m)\u001b[0m\u001b[0;34m.\u001b[0m\u001b[0m__init__\u001b[0m\u001b[0;34m(\u001b[0m\u001b[0mname\u001b[0m\u001b[0;34m)\u001b[0m\u001b[0;34m\u001b[0m\u001b[0;34m\u001b[0m\u001b[0m\n\u001b[0m",
      "\u001b[0;32m~/Documents/stage_2021/pyri/pyri/ExpData/expdata_class.py\u001b[0m in \u001b[0;36m__init__\u001b[0;34m(self, name)\u001b[0m\n\u001b[1;32m     17\u001b[0m         \u001b[0;32mwith\u001b[0m \u001b[0mopen\u001b[0m\u001b[0;34m(\u001b[0m\u001b[0;34m'pyri/Data/meta_expdata.json'\u001b[0m\u001b[0;34m,\u001b[0m \u001b[0;34m'r+'\u001b[0m\u001b[0;34m)\u001b[0m \u001b[0;32mas\u001b[0m \u001b[0mf\u001b[0m\u001b[0;34m:\u001b[0m\u001b[0;34m\u001b[0m\u001b[0;34m\u001b[0m\u001b[0m\n\u001b[1;32m     18\u001b[0m             \u001b[0mmeta_expdata\u001b[0m \u001b[0;34m=\u001b[0m \u001b[0mjson\u001b[0m\u001b[0;34m.\u001b[0m\u001b[0mload\u001b[0m\u001b[0;34m(\u001b[0m\u001b[0mf\u001b[0m\u001b[0;34m)\u001b[0m\u001b[0;34m\u001b[0m\u001b[0;34m\u001b[0m\u001b[0m\n\u001b[0;32m---> 19\u001b[0;31m             \u001b[0;32massert\u001b[0m \u001b[0mname\u001b[0m \u001b[0;32min\u001b[0m \u001b[0mmeta_expdata\u001b[0m\u001b[0;34m[\u001b[0m\u001b[0;34m'local_data'\u001b[0m\u001b[0;34m]\u001b[0m\u001b[0;34m,\u001b[0m\u001b[0;31m\\\u001b[0m\u001b[0;34m\u001b[0m\u001b[0;34m\u001b[0m\u001b[0m\n\u001b[0m\u001b[1;32m     20\u001b[0m                 \u001b[0;34m\"Material not in the local data bank.\"\u001b[0m\u001b[0;31m\\\u001b[0m\u001b[0;34m\u001b[0m\u001b[0;34m\u001b[0m\u001b[0m\n\u001b[1;32m     21\u001b[0m                 \u001b[0;34m\"To add it, visit the documentation.\"\u001b[0m\u001b[0;34m\u001b[0m\u001b[0;34m\u001b[0m\u001b[0m\n",
      "\u001b[0;31mAssertionError\u001b[0m: Material not in the local data bank.To add it, visit the documentation."
     ]
    }
   ],
   "source": [
    "bk7 = Material(\"BK7\")"
   ]
  },
  {
   "cell_type": "code",
   "execution_count": null,
   "id": "1c92ead9",
   "metadata": {},
   "outputs": [],
   "source": []
  }
 ],
 "metadata": {
  "kernelspec": {
   "display_name": "Python 3 (ipykernel)",
   "language": "python",
   "name": "python3"
  },
  "language_info": {
   "codemirror_mode": {
    "name": "ipython",
    "version": 3
   },
   "file_extension": ".py",
   "mimetype": "text/x-python",
   "name": "python",
   "nbconvert_exporter": "python",
   "pygments_lexer": "ipython3",
   "version": "3.8.10"
  }
 },
 "nbformat": 4,
 "nbformat_minor": 5
}
