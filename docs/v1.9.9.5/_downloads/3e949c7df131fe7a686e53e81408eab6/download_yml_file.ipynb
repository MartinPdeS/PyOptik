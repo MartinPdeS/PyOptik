{
  "cells": [
    {
      "cell_type": "markdown",
      "metadata": {},
      "source": [
        "\n# Example: Download a YAML file\n\nThis example demonstrates how to download a YAML file from a URL using the\n`download_yml_file` function from the `PyOptik.utils` module.\n"
      ]
    },
    {
      "cell_type": "code",
      "execution_count": null,
      "metadata": {
        "collapsed": false
      },
      "outputs": [],
      "source": [
        "from PyOptik import MaterialBank, MaterialType\n\n# Define the URL of the YAML file and the destination\n# Call the function to download the file\nMaterialBank.add_material_to_bank(\n    filename='example_download',\n    material_type=MaterialType.SELLMEIER,\n    url='https://refractiveindex.info/database/data-nk/main/H2O/Daimon-19.0C.yml'\n)\n\nMaterialBank.print_available()\n\nm = MaterialBank.get('example_download')\n\nm.plot()\n\nMaterialBank.remove_item(filename='example_download')\n\nMaterialBank.print_available()"
      ]
    }
  ],
  "metadata": {
    "kernelspec": {
      "display_name": "Python 3",
      "language": "python",
      "name": "python3"
    },
    "language_info": {
      "codemirror_mode": {
        "name": "ipython",
        "version": 3
      },
      "file_extension": ".py",
      "mimetype": "text/x-python",
      "name": "python",
      "nbconvert_exporter": "python",
      "pygments_lexer": "ipython3",
      "version": "3.11.11"
    }
  },
  "nbformat": 4,
  "nbformat_minor": 0
}