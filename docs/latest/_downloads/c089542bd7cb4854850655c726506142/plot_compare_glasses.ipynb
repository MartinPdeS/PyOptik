{
  "cells": [
    {
      "cell_type": "markdown",
      "metadata": {},
      "source": [
        "\n# Compare the Refractive Index of BK7 and Fused Silica\n\nThis example compares two common optical glasses available in\n:class:`~PyOptik.material_bank.MaterialBank`. It computes and plots the\nrefractive index of BK7 and fused silica over the visible to near\ninfrared wavelength range.\n"
      ]
    },
    {
      "cell_type": "code",
      "execution_count": null,
      "metadata": {
        "collapsed": false
      },
      "outputs": [],
      "source": [
        "import numpy\nimport matplotlib.pyplot as plt\nfrom MPSPlots.styles import mps\nfrom PyOptik import MaterialBank\nfrom PyOptik.units import micrometer\n\n# Retrieve materials\nbk7 = MaterialBank.BK7\nsilica = MaterialBank.fused_silica\n\n# Prepare wavelength range\nwavelengths = numpy.linspace(0.4, 1.6, 300) * micrometer\n\nn_bk7 = bk7.compute_refractive_index(wavelengths)\nn_silica = silica.compute_refractive_index(wavelengths)"
      ]
    },
    {
      "cell_type": "code",
      "execution_count": null,
      "metadata": {
        "collapsed": false
      },
      "outputs": [],
      "source": [
        "with plt.style.context(mps):\n    fig, ax = plt.subplots()\n\nax.set(\n    title=\"BK7 vs Fused Silica\",\n    xlabel=\"Wavelength [\u00b5m]\",\n    ylabel=\"Refractive index\",\n)\nax.plot(wavelengths.to(micrometer).magnitude, n_bk7.real, label=\"BK7\")\nax.plot(wavelengths.to(micrometer).magnitude, n_silica.real, label=\"Fused Silica\")\nax.legend()\n\nplt.show()"
      ]
    }
  ],
  "metadata": {
    "kernelspec": {
      "display_name": "Python 3",
      "language": "python",
      "name": "python3"
    },
    "language_info": {
      "codemirror_mode": {
        "name": "ipython",
        "version": 3
      },
      "file_extension": ".py",
      "mimetype": "text/x-python",
      "name": "python",
      "nbconvert_exporter": "python",
      "pygments_lexer": "ipython3",
      "version": "3.11.13"
    }
  },
  "nbformat": 4,
  "nbformat_minor": 0
}