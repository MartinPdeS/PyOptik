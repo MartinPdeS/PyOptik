{
 "cells": [
  {
   "cell_type": "code",
   "execution_count": 5,
   "id": "9740833a",
   "metadata": {},
   "outputs": [],
   "source": [
    "from pyri import Sellmeier\n",
    "from pyri import ExpData\n",
    "from pyri import load_sellmeier\n",
    "from pyri import load_online"
   ]
  },
  {
   "cell_type": "code",
   "execution_count": 6,
   "id": "bed29b34",
   "metadata": {},
   "outputs": [],
   "source": [
    "url = 'https://refractiveindex.info/tmp/data/glass/schott/N-BK7.html'"
   ]
  },
  {
   "cell_type": "code",
   "execution_count": 7,
   "id": "5b3ca9b5",
   "metadata": {},
   "outputs": [
    {
     "name": "stdout",
     "output_type": "stream",
     "text": [
      "(1+1.03961212/(1-0.00600069867/x**2)+0.231792344/(1-0.0200179144/x**2)+1.01046945/(1-103.560653/x**2))**.5\n"
     ]
    }
   ],
   "source": [
    "form = load_sellmeier(url)\n",
    "print(form)"
   ]
  },
  {
   "cell_type": "code",
   "execution_count": null,
   "id": "1e944c68",
   "metadata": {},
   "outputs": [],
   "source": []
  },
  {
   "cell_type": "code",
   "execution_count": 8,
   "id": "37d35737",
   "metadata": {},
   "outputs": [
    {
     "name": "stdout",
     "output_type": "stream",
     "text": [
      "0.9999999999963768\n"
     ]
    }
   ],
   "source": [
    "bk7 = Sellmeier(\"BK7\")\n",
    "n = bk7.sellmeier_ri(1.98e-07)\n",
    "print(n)"
   ]
  },
  {
   "cell_type": "code",
   "execution_count": 9,
   "id": "bd142e6a",
   "metadata": {},
   "outputs": [],
   "source": [
    "silver = ExpData(\"Silver\")"
   ]
  },
  {
   "cell_type": "code",
   "execution_count": 10,
   "id": "a2364188",
   "metadata": {},
   "outputs": [
    {
     "ename": "AssertionError",
     "evalue": "The wavelength value you entered is out of range. Try using GetSellmeier to use the formula or refer to the ",
     "output_type": "error",
     "traceback": [
      "\u001b[0;31m---------------------------------------------------------------------------\u001b[0m",
      "\u001b[0;31mAssertionError\u001b[0m                            Traceback (most recent call last)",
      "\u001b[0;32m/tmp/ipykernel_15845/3363010626.py\u001b[0m in \u001b[0;36m<module>\u001b[0;34m\u001b[0m\n\u001b[0;32m----> 1\u001b[0;31m \u001b[0mprint\u001b[0m\u001b[0;34m(\u001b[0m\u001b[0msilver\u001b[0m\u001b[0;34m.\u001b[0m\u001b[0mget_ri\u001b[0m\u001b[0;34m(\u001b[0m\u001b[0;36m1.870e-07\u001b[0m\u001b[0;34m)\u001b[0m\u001b[0;34m)\u001b[0m\u001b[0;34m\u001b[0m\u001b[0;34m\u001b[0m\u001b[0m\n\u001b[0m",
      "\u001b[0;32m~/Documents/stage_2021/pyri/pyri/ExpData/expdata_class.py\u001b[0m in \u001b[0;36mget_ri\u001b[0;34m(self, wl)\u001b[0m\n\u001b[1;32m     34\u001b[0m         \u001b[0mmin_wl\u001b[0m \u001b[0;34m=\u001b[0m \u001b[0mfloat\u001b[0m\u001b[0;34m(\u001b[0m\u001b[0mself\u001b[0m\u001b[0;34m.\u001b[0m\u001b[0mExpData\u001b[0m\u001b[0;34m[\u001b[0m\u001b[0;34m'wl_n'\u001b[0m\u001b[0;34m]\u001b[0m\u001b[0;34m[\u001b[0m\u001b[0;36m0\u001b[0m\u001b[0;34m]\u001b[0m\u001b[0;34m)\u001b[0m\u001b[0;34m\u001b[0m\u001b[0;34m\u001b[0m\u001b[0m\n\u001b[1;32m     35\u001b[0m         \u001b[0mmax_wl\u001b[0m \u001b[0;34m=\u001b[0m \u001b[0mfloat\u001b[0m\u001b[0;34m(\u001b[0m\u001b[0mself\u001b[0m\u001b[0;34m.\u001b[0m\u001b[0mExpData\u001b[0m\u001b[0;34m[\u001b[0m\u001b[0;34m'wl_n'\u001b[0m\u001b[0;34m]\u001b[0m\u001b[0;34m[\u001b[0m\u001b[0;34m-\u001b[0m\u001b[0;36m1\u001b[0m\u001b[0;34m]\u001b[0m\u001b[0;34m)\u001b[0m\u001b[0;34m\u001b[0m\u001b[0;34m\u001b[0m\u001b[0m\n\u001b[0;32m---> 36\u001b[0;31m         \u001b[0;32massert\u001b[0m \u001b[0mmin_wl\u001b[0m \u001b[0;34m<=\u001b[0m \u001b[0mwl\u001b[0m \u001b[0;34m<=\u001b[0m \u001b[0mmax_wl\u001b[0m\u001b[0;34m,\u001b[0m\u001b[0;31m\\\u001b[0m\u001b[0;34m\u001b[0m\u001b[0;34m\u001b[0m\u001b[0m\n\u001b[0m\u001b[1;32m     37\u001b[0m             \u001b[0;34m\"The wavelength value you entered is out of range. Try using \"\u001b[0m\u001b[0;31m\\\u001b[0m\u001b[0;34m\u001b[0m\u001b[0;34m\u001b[0m\u001b[0m\n\u001b[1;32m     38\u001b[0m             \u001b[0;34m\"GetSellmeier to use the formula or refer to the \"\u001b[0m\u001b[0;31m\\\u001b[0m\u001b[0;34m\u001b[0m\u001b[0;34m\u001b[0m\u001b[0m\n",
      "\u001b[0;31mAssertionError\u001b[0m: The wavelength value you entered is out of range. Try using GetSellmeier to use the formula or refer to the "
     ]
    }
   ],
   "source": [
    "print(silver.get_ri(1.870e-07))"
   ]
  },
  {
   "cell_type": "code",
   "execution_count": 11,
   "id": "05ae344f",
   "metadata": {},
   "outputs": [
    {
     "name": "stdout",
     "output_type": "stream",
     "text": [
      "Material not in the local data bank. To add it, visit the documentation\n"
     ]
    },
    {
     "ename": "AttributeError",
     "evalue": "'ExpData' object has no attribute 'DirFilename'",
     "output_type": "error",
     "traceback": [
      "\u001b[0;31m---------------------------------------------------------------------------\u001b[0m",
      "\u001b[0;31mAttributeError\u001b[0m                            Traceback (most recent call last)",
      "\u001b[0;32m/tmp/ipykernel_15845/2427631423.py\u001b[0m in \u001b[0;36m<module>\u001b[0;34m\u001b[0m\n\u001b[0;32m----> 1\u001b[0;31m \u001b[0mdodo\u001b[0m \u001b[0;34m=\u001b[0m \u001b[0mExpData\u001b[0m\u001b[0;34m(\u001b[0m\u001b[0;34m\"nonsense\"\u001b[0m\u001b[0;34m)\u001b[0m\u001b[0;34m\u001b[0m\u001b[0;34m\u001b[0m\u001b[0m\n\u001b[0m",
      "\u001b[0;32m~/Documents/stage_2021/pyri/pyri/ExpData/expdata_class.py\u001b[0m in \u001b[0;36m__init__\u001b[0;34m(self, name)\u001b[0m\n\u001b[1;32m     23\u001b[0m                       \"To add it, visit the documentation\")\n\u001b[1;32m     24\u001b[0m \u001b[0;34m\u001b[0m\u001b[0m\n\u001b[0;32m---> 25\u001b[0;31m         \u001b[0mself\u001b[0m\u001b[0;34m.\u001b[0m\u001b[0mExpData\u001b[0m \u001b[0;34m=\u001b[0m \u001b[0mnp\u001b[0m\u001b[0;34m.\u001b[0m\u001b[0mload\u001b[0m\u001b[0;34m(\u001b[0m\u001b[0;34m\"pyri/Data/npz/\"\u001b[0m \u001b[0;34m+\u001b[0m \u001b[0mself\u001b[0m\u001b[0;34m.\u001b[0m\u001b[0mDirFilename\u001b[0m\u001b[0;34m)\u001b[0m\u001b[0;34m\u001b[0m\u001b[0;34m\u001b[0m\u001b[0m\n\u001b[0m\u001b[1;32m     26\u001b[0m \u001b[0;34m\u001b[0m\u001b[0m\n\u001b[1;32m     27\u001b[0m     \u001b[0;32mdef\u001b[0m \u001b[0mget_ri\u001b[0m\u001b[0;34m(\u001b[0m\u001b[0mself\u001b[0m\u001b[0;34m,\u001b[0m \u001b[0mwl\u001b[0m\u001b[0;34m)\u001b[0m\u001b[0;34m:\u001b[0m\u001b[0;34m\u001b[0m\u001b[0;34m\u001b[0m\u001b[0m\n",
      "\u001b[0;31mAttributeError\u001b[0m: 'ExpData' object has no attribute 'DirFilename'"
     ]
    }
   ],
   "source": [
    "dodo = ExpData(\"nonsense\")"
   ]
  },
  {
   "cell_type": "code",
   "execution_count": 1,
   "id": "efbccb3d",
   "metadata": {},
   "outputs": [
    {
     "name": "stdout",
     "output_type": "stream",
     "text": [
      "Material with experimental data: ['Silver']\n",
      "Material with Sellmeier's formula: ['BK7']\n"
     ]
    }
   ],
   "source": [
    "from pyri import data_bank"
   ]
  },
  {
   "cell_type": "code",
   "execution_count": 2,
   "id": "ff2a8ab3",
   "metadata": {},
   "outputs": [
    {
     "name": "stdout",
     "output_type": "stream",
     "text": [
      "Material with experimental data: ['Silver']\n",
      "Material with Sellmeier's formula: ['BK7']\n"
     ]
    }
   ],
   "source": [
    "data_bank()"
   ]
  },
  {
   "cell_type": "code",
   "execution_count": null,
   "id": "bf2f0cdf",
   "metadata": {},
   "outputs": [],
   "source": []
  }
 ],
 "metadata": {
  "kernelspec": {
   "display_name": "Python 3 (ipykernel)",
   "language": "python",
   "name": "python3"
  },
  "language_info": {
   "codemirror_mode": {
    "name": "ipython",
    "version": 3
   },
   "file_extension": ".py",
   "mimetype": "text/x-python",
   "name": "python",
   "nbconvert_exporter": "python",
   "pygments_lexer": "ipython3",
   "version": "3.8.10"
  }
 },
 "nbformat": 4,
 "nbformat_minor": 5
}
